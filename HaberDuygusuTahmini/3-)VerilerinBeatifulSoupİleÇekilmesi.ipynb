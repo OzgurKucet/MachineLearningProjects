{
 "cells": [
  {
   "cell_type": "code",
   "execution_count": 1,
   "metadata": {},
   "outputs": [],
   "source": [
    "# -*- coding: utf-8 -*-\n",
    "import time\n",
    "import requests\n",
    "from bs4 import BeautifulSoup\n",
    "\n",
    "time.sleep(1)\n",
    "liste = []\n",
    "\n",
    "#Aynı işlemleri thegeyik web sitesi için yaptım bu sitede genel olarak iyi haberler var. \n",
    "\n",
    "for i in range(1,40):\n",
    "    response = requests.get(\"http://www.thegeyik.com/category/kultur/page/\" +str(i)+ \"/\")\n",
    "    time.sleep(1)\n",
    "    soup = BeautifulSoup(response.content,\"lxml\")\n",
    "    haberler = soup.find_all(\"li\",attrs = {\"class\":\"mvp-blog-story-wrap left relative infinite-post\"})\n",
    "    for haber in haberler:\n",
    "        haberbaslık = haber.find_all(\"h2\")\n",
    "        liste.append(haberbaslık[0].text)\n"
   ]
  },
  {
   "cell_type": "code",
   "execution_count": 2,
   "metadata": {},
   "outputs": [
    {
     "name": "stdout",
     "output_type": "stream",
     "text": [
      "699\n"
     ]
    }
   ],
   "source": [
    "print(len(liste))"
   ]
  },
  {
   "cell_type": "code",
   "execution_count": 3,
   "metadata": {},
   "outputs": [
    {
     "data": {
      "text/html": [
       "<div>\n",
       "<style scoped>\n",
       "    .dataframe tbody tr th:only-of-type {\n",
       "        vertical-align: middle;\n",
       "    }\n",
       "\n",
       "    .dataframe tbody tr th {\n",
       "        vertical-align: top;\n",
       "    }\n",
       "\n",
       "    .dataframe thead th {\n",
       "        text-align: right;\n",
       "    }\n",
       "</style>\n",
       "<table border=\"1\" class=\"dataframe\">\n",
       "  <thead>\n",
       "    <tr style=\"text-align: right;\">\n",
       "      <th></th>\n",
       "      <th>Text</th>\n",
       "      <th>Sentiment</th>\n",
       "    </tr>\n",
       "  </thead>\n",
       "  <tbody>\n",
       "    <tr>\n",
       "      <th>0</th>\n",
       "      <td>Mobil Uygulamalara Bir Günde 407 Milyon Dolar ...</td>\n",
       "      <td>1</td>\n",
       "    </tr>\n",
       "    <tr>\n",
       "      <th>1</th>\n",
       "      <td>Dünya Tarihinin En Önemli Dahilerinden Biri Ol...</td>\n",
       "      <td>1</td>\n",
       "    </tr>\n",
       "    <tr>\n",
       "      <th>2</th>\n",
       "      <td>Okuduğunuz Zaman Beyninizin Yanacağı Dünyanın ...</td>\n",
       "      <td>1</td>\n",
       "    </tr>\n",
       "    <tr>\n",
       "      <th>3</th>\n",
       "      <td>E-ticaret ile İlgilenenler İçin Harika Bilgile...</td>\n",
       "      <td>1</td>\n",
       "    </tr>\n",
       "    <tr>\n",
       "      <th>4</th>\n",
       "      <td>Gündelik Eşyalardan Yaratabileceğiniz 25 Marve...</td>\n",
       "      <td>1</td>\n",
       "    </tr>\n",
       "    <tr>\n",
       "      <th>...</th>\n",
       "      <td>...</td>\n",
       "      <td>...</td>\n",
       "    </tr>\n",
       "    <tr>\n",
       "      <th>694</th>\n",
       "      <td>George Orwell Neden Yazıyordu?</td>\n",
       "      <td>1</td>\n",
       "    </tr>\n",
       "    <tr>\n",
       "      <th>695</th>\n",
       "      <td>Akıl Hastalarının Bakırköy’den Yazdıkları Şiir...</td>\n",
       "      <td>1</td>\n",
       "    </tr>\n",
       "    <tr>\n",
       "      <th>696</th>\n",
       "      <td>#şiirsokakta Kadıköy Sokakları Cemal Süreya’ya...</td>\n",
       "      <td>1</td>\n",
       "    </tr>\n",
       "    <tr>\n",
       "      <th>697</th>\n",
       "      <td>Büyük İhtimalle Yanlış Kullandığınız 5 Şey</td>\n",
       "      <td>1</td>\n",
       "    </tr>\n",
       "    <tr>\n",
       "      <th>698</th>\n",
       "      <td>Tarihteki En Ünlü 40 Kitap Soykırımı Vakası</td>\n",
       "      <td>1</td>\n",
       "    </tr>\n",
       "  </tbody>\n",
       "</table>\n",
       "<p>699 rows × 2 columns</p>\n",
       "</div>"
      ],
      "text/plain": [
       "                                                  Text  Sentiment\n",
       "0    Mobil Uygulamalara Bir Günde 407 Milyon Dolar ...          1\n",
       "1    Dünya Tarihinin En Önemli Dahilerinden Biri Ol...          1\n",
       "2    Okuduğunuz Zaman Beyninizin Yanacağı Dünyanın ...          1\n",
       "3    E-ticaret ile İlgilenenler İçin Harika Bilgile...          1\n",
       "4    Gündelik Eşyalardan Yaratabileceğiniz 25 Marve...          1\n",
       "..                                                 ...        ...\n",
       "694                     George Orwell Neden Yazıyordu?          1\n",
       "695  Akıl Hastalarının Bakırköy’den Yazdıkları Şiir...          1\n",
       "696  #şiirsokakta Kadıköy Sokakları Cemal Süreya’ya...          1\n",
       "697         Büyük İhtimalle Yanlış Kullandığınız 5 Şey          1\n",
       "698        Tarihteki En Ünlü 40 Kitap Soykırımı Vakası          1\n",
       "\n",
       "[699 rows x 2 columns]"
      ]
     },
     "execution_count": 3,
     "metadata": {},
     "output_type": "execute_result"
    }
   ],
   "source": [
    "import pandas as pd\n",
    "d = {'Text': liste, 'Sentiment': 1}\n",
    "df = pd.DataFrame(data=d)\n",
    "df"
   ]
  },
  {
   "cell_type": "code",
   "execution_count": 4,
   "metadata": {},
   "outputs": [],
   "source": [
    "df.to_csv(\"thegeyikKültür.csv\",index = False)"
   ]
  },
  {
   "cell_type": "code",
   "execution_count": null,
   "metadata": {},
   "outputs": [],
   "source": []
  }
 ],
 "metadata": {
  "kernelspec": {
   "display_name": "Python 3",
   "language": "python",
   "name": "python3"
  },
  "language_info": {
   "codemirror_mode": {
    "name": "ipython",
    "version": 3
   },
   "file_extension": ".py",
   "mimetype": "text/x-python",
   "name": "python",
   "nbconvert_exporter": "python",
   "pygments_lexer": "ipython3",
   "version": "3.7.6"
  }
 },
 "nbformat": 4,
 "nbformat_minor": 4
}
