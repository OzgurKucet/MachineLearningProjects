{
 "cells": [
  {
   "cell_type": "code",
   "execution_count": 1,
   "metadata": {},
   "outputs": [],
   "source": [
    "# -*- coding: utf-8 -*-\n",
    "import time\n",
    "import requests\n",
    "from bs4 import BeautifulSoup\n",
    "\n",
    "time.sleep(1)\n",
    "liste = []\n",
    "for i in range(1,10): #onedio dan kaç sayfa çekilmesini istiyorsak o kadar sayfa yazıyoruz.\n",
    "    response = requests.get(\"https://onedio.com/goygoy/\" +str(i)) #Şuan goygoydan 10 sayfa alıyorum farklı başlıkları almak için linkini buraya giriyorum\n",
    "    time.sleep(1)\n",
    "    soup = BeautifulSoup(response.content,\"lxml\")#html parser yerine hızlı olması için lxml kullandım.\n",
    "    haberler = soup.find_all(\"article\",attrs = {\"class\":\"o-card medium row o-article\"})#haberlerin bulunduğu class ı yazdım.\n",
    "    for haber in haberler: #Tüm haber başlıklarını listeye yazdırdım.\n",
    "        haberbaslık = haber.find_all(\"h3\")\n",
    "        liste.append(haberbaslık[0].text)"
   ]
  },
  {
   "cell_type": "code",
   "execution_count": 2,
   "metadata": {},
   "outputs": [
    {
     "name": "stdout",
     "output_type": "stream",
     "text": [
      "180\n"
     ]
    }
   ],
   "source": [
    "print(len(liste))#kaç başlık alındığı"
   ]
  },
  {
   "cell_type": "code",
   "execution_count": 3,
   "metadata": {},
   "outputs": [
    {
     "data": {
      "text/html": [
       "<div>\n",
       "<style scoped>\n",
       "    .dataframe tbody tr th:only-of-type {\n",
       "        vertical-align: middle;\n",
       "    }\n",
       "\n",
       "    .dataframe tbody tr th {\n",
       "        vertical-align: top;\n",
       "    }\n",
       "\n",
       "    .dataframe thead th {\n",
       "        text-align: right;\n",
       "    }\n",
       "</style>\n",
       "<table border=\"1\" class=\"dataframe\">\n",
       "  <thead>\n",
       "    <tr style=\"text-align: right;\">\n",
       "      <th></th>\n",
       "      <th>Text</th>\n",
       "      <th>Sentiment</th>\n",
       "    </tr>\n",
       "  </thead>\n",
       "  <tbody>\n",
       "    <tr>\n",
       "      <th>0</th>\n",
       "      <td>Kim Ne Derse Desin Sevmeye Devam Edecekleri İğ...</td>\n",
       "      <td>1</td>\n",
       "    </tr>\n",
       "    <tr>\n",
       "      <th>1</th>\n",
       "      <td>Türk Televizyonlarında Reyting Kaygısıyla Yapı...</td>\n",
       "      <td>1</td>\n",
       "    </tr>\n",
       "    <tr>\n",
       "      <th>2</th>\n",
       "      <td>Vajinanın Asidik Olması Nedeniyle İç Çamaşırla...</td>\n",
       "      <td>1</td>\n",
       "    </tr>\n",
       "    <tr>\n",
       "      <th>3</th>\n",
       "      <td>Her Ne Yapıyorsanız Bırakıp Okumanız Gereken H...</td>\n",
       "      <td>1</td>\n",
       "    </tr>\n",
       "    <tr>\n",
       "      <th>4</th>\n",
       "      <td>Işıklar Saçan Lüks Minberdeki İmamın Gündem Ol...</td>\n",
       "      <td>1</td>\n",
       "    </tr>\n",
       "    <tr>\n",
       "      <th>...</th>\n",
       "      <td>...</td>\n",
       "      <td>...</td>\n",
       "    </tr>\n",
       "    <tr>\n",
       "      <th>175</th>\n",
       "      <td>Bitmeyen Pandemide Okul Hayatlarında Yaşadıkla...</td>\n",
       "      <td>1</td>\n",
       "    </tr>\n",
       "    <tr>\n",
       "      <th>176</th>\n",
       "      <td>Dünyada Sadece Türkiye'de Bulabileceğiniz Tama...</td>\n",
       "      <td>1</td>\n",
       "    </tr>\n",
       "    <tr>\n",
       "      <th>177</th>\n",
       "      <td>Sahip Olduğun En Saçma Yeteneği Bizimle Paylaş...</td>\n",
       "      <td>1</td>\n",
       "    </tr>\n",
       "    <tr>\n",
       "      <th>178</th>\n",
       "      <td>Ümit Özat Twitter'dan Kendisine Gelen Sorulara...</td>\n",
       "      <td>1</td>\n",
       "    </tr>\n",
       "    <tr>\n",
       "      <th>179</th>\n",
       "      <td>Küfürsüz de Komik Olunabileceğini Kanıtlayan K...</td>\n",
       "      <td>1</td>\n",
       "    </tr>\n",
       "  </tbody>\n",
       "</table>\n",
       "<p>180 rows × 2 columns</p>\n",
       "</div>"
      ],
      "text/plain": [
       "                                                  Text  Sentiment\n",
       "0    Kim Ne Derse Desin Sevmeye Devam Edecekleri İğ...          1\n",
       "1    Türk Televizyonlarında Reyting Kaygısıyla Yapı...          1\n",
       "2    Vajinanın Asidik Olması Nedeniyle İç Çamaşırla...          1\n",
       "3    Her Ne Yapıyorsanız Bırakıp Okumanız Gereken H...          1\n",
       "4    Işıklar Saçan Lüks Minberdeki İmamın Gündem Ol...          1\n",
       "..                                                 ...        ...\n",
       "175  Bitmeyen Pandemide Okul Hayatlarında Yaşadıkla...          1\n",
       "176  Dünyada Sadece Türkiye'de Bulabileceğiniz Tama...          1\n",
       "177  Sahip Olduğun En Saçma Yeteneği Bizimle Paylaş...          1\n",
       "178  Ümit Özat Twitter'dan Kendisine Gelen Sorulara...          1\n",
       "179  Küfürsüz de Komik Olunabileceğini Kanıtlayan K...          1\n",
       "\n",
       "[180 rows x 2 columns]"
      ]
     },
     "execution_count": 3,
     "metadata": {},
     "output_type": "execute_result"
    }
   ],
   "source": [
    "import pandas as pd #Verilerimizi Bir pandas dataframe haline çeviriyoruz.\n",
    "d = {'Text': liste, 'Sentiment': 1}\n",
    "df = pd.DataFrame(data=d)\n",
    "df"
   ]
  },
  {
   "cell_type": "code",
   "execution_count": 4,
   "metadata": {},
   "outputs": [],
   "source": [
    "df.to_csv(\"onedioGoygoy2.csv\",index = False) #Son olarakta csv olarak kaydediyoruz."
   ]
  },
  {
   "cell_type": "code",
   "execution_count": null,
   "metadata": {},
   "outputs": [],
   "source": []
  }
 ],
 "metadata": {
  "kernelspec": {
   "display_name": "Python 3",
   "language": "python",
   "name": "python3"
  },
  "language_info": {
   "codemirror_mode": {
    "name": "ipython",
    "version": 3
   },
   "file_extension": ".py",
   "mimetype": "text/x-python",
   "name": "python",
   "nbconvert_exporter": "python",
   "pygments_lexer": "ipython3",
   "version": "3.7.6"
  }
 },
 "nbformat": 4,
 "nbformat_minor": 4
}
